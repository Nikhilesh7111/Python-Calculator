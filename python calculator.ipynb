{
 "cells": [
  {
   "cell_type": "code",
   "execution_count": null,
   "metadata": {},
   "outputs": [],
   "source": [
    "def add(x, y):\n",
    "    return x + y\n",
    "\n",
    "def subtract(x, y):\n",
    "    return x - y\n",
    "\n",
    "def multiply(x, y):\n",
    "    return x * y\n",
    "\n",
    "def divide(x, y):\n",
    "    try:\n",
    "        return x / y\n",
    "    except ZeroDivisionError:\n",
    "        return \"Error! Division by zero.\"\n",
    "\n",
    "def calculator():\n",
    "    print(\"Simple Python Calculator\")\n",
    "    while True:\n",
    "        print(\"\\nOperations:\")\n",
    "        print(\"1. Add\")\n",
    "        print(\"2. Subtract\")\n",
    "        print(\"3. Multiply\")\n",
    "        print(\"4. Divide\")\n",
    "        print(\"5. Exit\")\n",
    "\n",
    "        choice = input(\"Enter choice (1/2/3/4/5): \")\n",
    "\n",
    "        if choice in ('1', '2', '3', '4'):\n",
    "            num1 = float(input(\"Enter first number: \"))\n",
    "            num2 = float(input(\"Enter second number: \"))\n",
    "\n",
    "            if choice == '1':\n",
    "                print(f\"{num1} + {num2} = {add(num1, num2)}\")\n",
    "\n",
    "            elif choice == '2':\n",
    "                print(f\"{num1} - {num2} = {subtract(num1, num2)}\")\n",
    "\n",
    "            elif choice == '3':\n",
    "                print(f\"{num1} * {num2} = {multiply(num1, num2)}\")\n",
    "\n",
    "            elif choice == '4':\n",
    "                result = divide(num1, num2)\n",
    "                print(f\"{num1} / {num2} = {result}\")\n",
    "\n",
    "        elif choice == '5':\n",
    "            print(\"Exiting calculator.\")\n",
    "            break\n",
    "        else:\n",
    "            print(\"Invalid input. Please enter a number between 1 and 5.\")\n",
    "\n",
    "calculator()\n"
   ]
  }
 ],
 "metadata": {
  "kernelspec": {
   "display_name": "Python 3",
   "language": "python",
   "name": "python3"
  },
  "language_info": {
   "name": "python",
   "version": "3.10.0"
  }
 },
 "nbformat": 4,
 "nbformat_minor": 2
}
